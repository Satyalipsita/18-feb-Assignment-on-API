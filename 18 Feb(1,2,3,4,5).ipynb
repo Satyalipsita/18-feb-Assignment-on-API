{
  "metadata": {
    "language_info": {
      "codemirror_mode": {
        "name": "python",
        "version": 3
      },
      "file_extension": ".py",
      "mimetype": "text/x-python",
      "name": "python",
      "nbconvert_exporter": "python",
      "pygments_lexer": "ipython3",
      "version": "3.8"
    },
    "kernelspec": {
      "name": "python",
      "display_name": "Python (Pyodide)",
      "language": "python"
    }
  },
  "nbformat_minor": 4,
  "nbformat": 4,
  "cells": [
    {
      "cell_type": "code",
      "source": "#Q-1: \nAPIs are used in web applications to connect user-facing front ends with critical back-end functionality and data. APIs are used to deliver material by streaming services such as Spotify and Netflix. APIs are used by automakers such as Tesla to provide software upgrades",
      "metadata": {},
      "execution_count": null,
      "outputs": []
    },
    {
      "cell_type": "code",
      "source": "#Q-2: API Disadvantages and Advantages\n\nAs a single point of entry, an API is a gateway and can become a hacker's primary target. Once the API is compromised, all other applications and systems become vulnerable\nAdvantage: It allows the communication between the nheterogenous application which is verymuch neeeded for every interaction with web or any day to day applications.",
      "metadata": {},
      "execution_count": null,
      "outputs": []
    },
    {
      "cell_type": "code",
      "source": "#Q-3:\nAPI is application interface programming. which allows for communication between homogenous and heterogenous application.But web API uses HTTP protocol for geting ,posting,deleting datas through web. Web API is a subset of API in general",
      "metadata": {},
      "execution_count": null,
      "outputs": []
    },
    {
      "cell_type": "code",
      "source": "#Q-4: REST- Based on HTTP ,uses put(),get(),delete() for communication through web.\n      SOAP- Uses XML based messaging protocol, which contains WSDL whwere all the instructions are written.\n    Sortcomings of SOAP: Security is the major shortcoming for this API.can be used for social apps whetre dat security is not a concern.",
      "metadata": {},
      "execution_count": null,
      "outputs": []
    },
    {
      "cell_type": "code",
      "source": "#Q-5: SOAP:\n1-Relies on SOAP (Simple Object Access Protocol)\n2-Transports data in standard XML format.\n3-Because it is XML based and relies on SOAP, it works with WSDL\n4-Works over HTTP, HTTPS, SMTP, XMPP\n5-Highly structured/typed\n6-Designed with large enterprise applications in mind\n\n# REST:\n1-Relies on REST (Representational State Transfer) architecture using HTTP.\n2-Generally transports data in JSON. It is based on URI. Because REST follows stateless model, REST does not enforces message format as XML or JSON etc.\n3-It works with GET, POST, PUT, DELETE\n4-Works over HTTP and HTTPS\n5-Less structured -> less bulky data\n6-Designed with mobile devices in mind",
      "metadata": {},
      "execution_count": null,
      "outputs": []
    }
  ]
}